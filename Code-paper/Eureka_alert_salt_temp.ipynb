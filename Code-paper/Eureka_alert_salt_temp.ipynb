{
 "cells": [
  {
   "cell_type": "code",
   "execution_count": 2,
   "metadata": {},
   "outputs": [],
   "source": [
    "import os\n",
    "import numpy as np\n",
    "import matplotlib.pyplot as plt\n",
    "from matplotlib import colors\n",
    "import pickle\n",
    "import pandas as pd\n",
    "import itertools\n",
    "from scipy import optimize\n",
    "import xarray as xr\n",
    "\n",
    "#For local jum002 HPC setup\n",
    "import sys\n",
    "sys.path.append(\"/home/jum002/store5/repo/smrt_fork/smrt\")\n",
    "sys.path.append(\"/home/jum002/store5/repo/snowmicropyn\")\n",
    "\n",
    "#local import\n",
    "import akross_common_functions as AK\n",
    "from smrt.permittivity.saline_snow import saline_snow_permittivity_scharien_with_stogryn95 as ssp\n",
    "from smrt import make_model\n",
    "from smrt.inputs import altimeter_list\n",
    "from smrt.emmodel.iba import derived_IBA\n",
    "\n",
    "from snowmicropyn import density_ssa, profile\n",
    "\n",
    "#turn off warning\n",
    "import warnings\n",
    "warnings.simplefilter('ignore')\n",
    "pd.set_option('mode.chained_assignment',None)"
   ]
  },
  {
   "cell_type": "code",
   "execution_count": 7,
   "metadata": {},
   "outputs": [],
   "source": [
    "salt_eureka = pd.read_excel('/home/jum002/store5/data/AKROSS_data/Alert-Eureka/SMP/Eureka2016_Salinity.xlsx', sheet_name='snow', skiprows=1)\n",
    "temp_eureka = pd.read_excel('/home/jum002/store5/data/AKROSS_data/Alert-Eureka/SMP/Eureka2016_Temp.xlsx', skiprows=1)\n",
    "\n",
    "salt_alert = pd.read_excel('/home/jum002/store5/data/AKROSS_data/Alert-Eureka/SMP/Alert2017_Salinity.xlsx', skiprows=1)\n",
    "temp_alert = pd.read_excel('/home/jum002/store5/data/AKROSS_data/Alert-Eureka//SMP/Alert2017_Temp.xlsx', skiprows=1)"
   ]
  },
  {
   "cell_type": "code",
   "execution_count": 8,
   "metadata": {},
   "outputs": [],
   "source": [
    "def get_prop(df, colnames):\n",
    "    df_prop = pd.concat([df[['Top_height (cm)']] , df[colnames].mean(axis = 1)], axis = 1).dropna()\n",
    "    df_prop = df_prop.rename(columns={'Top_height (cm)' : 'height', 0: 'param'})\n",
    "    return df_prop"
   ]
  },
  {
   "cell_type": "code",
   "execution_count": 9,
   "metadata": {},
   "outputs": [],
   "source": [
    "salt_eureka_1 = get_prop(salt_eureka, ['Eureka_1 Pit 1', 'Eureka_1 Pit 2', 'Eureka_1 Pit 3'])\n",
    "salt_eureka_2 = get_prop(salt_eureka, ['Eureka_2 Pit 1', 'Eureka_2 Pit 2', 'Eureka_2 Pit 3'])\n",
    "salt_eureka_3 = get_prop(salt_eureka, ['Eureka_3 Pit 1', 'Eureka_3 Pit 2', 'Test Eureka_3 Pit 3'])\n",
    "salt_eureka_4 = get_prop(salt_eureka, ['Eureka_4 Pit 1', 'Eureka_4 Pit 2', 'Eureka_4 Pit 3'])\n",
    "salt_eureka_5 = get_prop(salt_eureka, ['Eureka_5 Pit 1', 'Eureka_5 Pit 2', 'Eureka_5 Pit 3'])\n",
    "salt_eureka_6 = get_prop(salt_eureka, ['Eureka_6 Pit 1', 'Test Eureka_6 Pit 2', 'Eureka_6 Pit 3'])\n",
    "salt_eureka_7 = get_prop(salt_eureka, ['Test Eureka_7 Pit 1', 'Eureka_7 Pit 2', 'Test Eureka_7 Pit 3'])\n",
    "salt_eureka_8 = get_prop(salt_eureka, ['Eureka_8 Pit 1', 'Eureka_8 Pit 2'])"
   ]
  },
  {
   "cell_type": "code",
   "execution_count": 10,
   "metadata": {},
   "outputs": [],
   "source": [
    "temp_eureka_1 = get_prop(temp_eureka, ['Eureka_1 Pit 1', 'Eureka_1 Pit 2', 'Eureka_1 Pit 3'])\n",
    "temp_eureka_2 = get_prop(temp_eureka, ['Eureka_2 Pit 1', 'Eureka_2 Pit 2', 'Eureka_2 Pit 3'])\n",
    "temp_eureka_3 = get_prop(temp_eureka, ['Eureka_3 Pit 1', 'Eureka_3 Pit 2', 'Test Eureka_3 Pit 3'])\n",
    "temp_eureka_4 = get_prop(temp_eureka, ['Eureka_4 Pit 1', 'Eureka_4 Pit 2', 'Eureka_4 Pit 3'])\n",
    "temp_eureka_5 = get_prop(temp_eureka, ['Eureka_5 Pit 1', 'Eureka_5 Pit 2', 'Eureka_5 Pit 3'])\n",
    "temp_eureka_6 = get_prop(temp_eureka, ['Eureka_6 Pit 1', 'Test Eureka_6 Pit 2', 'Eureka_6 Pit 3'])\n",
    "temp_eureka_7 = get_prop(temp_eureka, ['Test Eureka_7 Pit 1', 'Eureka_7 Pit 2', 'Test Eureka_7 Pit 3'])\n",
    "temp_eureka_8 = get_prop(temp_eureka, ['Eureka_8 Pit 1', 'Eureka_8 Pit 2'])"
   ]
  },
  {
   "cell_type": "code",
   "execution_count": 11,
   "metadata": {},
   "outputs": [],
   "source": [
    "salt_alert_1 = get_prop(salt_alert, ['Alert_1 Pit 1'])\n",
    "salt_alert_2 = get_prop(salt_alert, ['Alert_2 Pit 1'])\n",
    "salt_alert_3 = get_prop(salt_alert, ['Alert_3 Pit 1'])\n",
    "salt_alert_4 = get_prop(salt_alert, ['Alert_4 Pit 1'])\n",
    "salt_alert_5 = get_prop(salt_alert, ['Alert_5 Pit 1'])\n",
    "salt_alert_6 = get_prop(salt_alert, ['Alert_6 Pit 1'])\n",
    "salt_alert_8 = get_prop(salt_alert, ['Alert_8 Pit 1'])\n",
    "salt_alert_9 = get_prop(salt_alert, ['Alert_9'])\n",
    "salt_alert_10 = get_prop(salt_alert, ['Alert_10'])"
   ]
  },
  {
   "cell_type": "code",
   "execution_count": 12,
   "metadata": {},
   "outputs": [],
   "source": [
    "temp_alert_1 = get_prop(temp_alert, ['Alert_1 Pit 1'])\n",
    "temp_alert_2 = get_prop(temp_alert, ['Alert_2 Pit 1'])\n",
    "temp_alert_3 = get_prop(temp_alert, ['Alert_3 Pit 1'])\n",
    "temp_alert_4 = get_prop(temp_alert, ['Alert_4 Pit 1'])\n",
    "temp_alert_5 = get_prop(temp_alert, ['Alert_5 Pit 1'])\n",
    "temp_alert_6 = get_prop(temp_alert, ['Alert_6 Pit 1'])\n",
    "temp_alert_8 = get_prop(temp_alert, ['Alert_8 Pit 1'])\n",
    "temp_alert_9 = get_prop(temp_alert, ['Alert_9'])\n",
    "temp_alert_10 = get_prop(temp_alert, ['Alert_10'])"
   ]
  },
  {
   "cell_type": "code",
   "execution_count": 13,
   "metadata": {},
   "outputs": [],
   "source": [
    "salt_dict = {'Eureka_1' : salt_eureka_1,\n",
    "            'Eureka_2' : salt_eureka_2,\n",
    "            'Eureka_3' : salt_eureka_3,\n",
    "            'Eureka_4' : salt_eureka_4,\n",
    "            'Eureka_5' : salt_eureka_5,\n",
    "            'Eureka_6' : salt_eureka_6,\n",
    "            'Eureka_7' : salt_eureka_7,\n",
    "            'Eureka_8' : salt_eureka_8,\n",
    "            'Alert_1' : salt_alert_1,\n",
    "            'Alert_2' : salt_alert_2,\n",
    "            'Alert_3' : salt_alert_3,\n",
    "            'Alert_4' : salt_alert_4,\n",
    "            'Alert_5' : salt_alert_5,\n",
    "            'Alert_6' : salt_alert_6,\n",
    "            'Alert_8' : salt_alert_8,\n",
    "            'Alert_9' : temp_alert_9,\n",
    "            'Alert_10' : temp_alert_10}\n",
    "\n",
    "temp_dict = {'Eureka_1' : temp_eureka_1,\n",
    "            'Eureka_2' : temp_eureka_2,\n",
    "            'Eureka_3' : temp_eureka_3,\n",
    "            'Eureka_4' : temp_eureka_4,\n",
    "            'Eureka_5' : temp_eureka_5,\n",
    "            'Eureka_6' : temp_eureka_6,\n",
    "            'Eureka_7' : temp_eureka_7,\n",
    "            'Eureka_8' : temp_eureka_8,\n",
    "            'Alert_1' : temp_alert_1,\n",
    "            'Alert_2' : temp_alert_2,\n",
    "            'Alert_3' : temp_alert_3,\n",
    "            'Alert_4' : temp_alert_4,\n",
    "            'Alert_5' : temp_alert_5,\n",
    "            'Alert_6' : temp_alert_6,\n",
    "            'Alert_8' : temp_alert_8,\n",
    "            'Alert_9' : temp_alert_9,\n",
    "            'Alert_10' : temp_alert_10}\n"
   ]
  },
  {
   "cell_type": "code",
   "execution_count": 14,
   "metadata": {},
   "outputs": [],
   "source": [
    "with open('smrt_in-out/alert_eureka_salt_temp_dict', 'wb') as pickle_file:\n",
    "    pickle.dump(salt_dict, pickle_file)"
   ]
  }
 ],
 "metadata": {
  "kernelspec": {
   "display_name": "CMDS310",
   "language": "python",
   "name": "cmds310"
  },
  "language_info": {
   "codemirror_mode": {
    "name": "ipython",
    "version": 3
   },
   "file_extension": ".py",
   "mimetype": "text/x-python",
   "name": "python",
   "nbconvert_exporter": "python",
   "pygments_lexer": "ipython3",
   "version": "3.10.12"
  }
 },
 "nbformat": 4,
 "nbformat_minor": 2
}
