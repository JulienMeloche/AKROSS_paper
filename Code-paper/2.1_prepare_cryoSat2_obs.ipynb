{
 "cells": [
  {
   "cell_type": "code",
   "execution_count": null,
   "id": "5e17bfb8",
   "metadata": {},
   "outputs": [],
   "source": [
    "# #For jum002 HPC setup\n",
    "# import sys\n",
    "# import os\n",
    "# sys.path.append(\"/home/jum002/store5/repo/smrt\")\n",
    "# sys.path.append(\"/home/jum002/store5/repo/snowmicropyn\")\n",
    "# os.chdir(\"/home/jum002/code-workshop/AKROSS_paper/Code-paper\")"
   ]
  },
  {
   "cell_type": "code",
   "execution_count": null,
   "id": "14e8e14e-85f5-468f-b57a-4091d26e6c4c",
   "metadata": {},
   "outputs": [],
   "source": [
    "\n",
    "import numpy as np\n",
    "import matplotlib.pyplot as plt\n",
    "import pandas as pd\n",
    "import pickle\n",
    "\n",
    "# From https://github.com/tsutterley/read-cryosat-2\n",
    "# quick fix to add baseline E\n",
    "# use the file read_cryosat_L1b_modif_CB22.py\n",
    "import read_cryosat_L1b_modif_CB22 as read_cryo\n",
    "import akross_common_functions as AK"
   ]
  },
  {
   "cell_type": "code",
   "execution_count": null,
   "id": "3aa05e7b",
   "metadata": {},
   "outputs": [],
   "source": [
    "def get_waveform(filename, low_lat, high_lat):\n",
    "    #get info for whole swath\n",
    "    CS_L1b_mds = read_cryo.read_cryosat_L1b(filename)\n",
    "    masked_coord = []\n",
    "    wf2 = []\n",
    "    for i in range(len(CS_L1b_mds['Waveform_1Hz']['Lat'])):\n",
    "        #print (i,CS_L1b_mds['Location']['Second'][i,0] )\n",
    "        if (CS_L1b_mds['Waveform_1Hz']['Lat'][i] >= low_lat*1e7) and (CS_L1b_mds['Waveform_1Hz']['Lat'][i] <= high_lat*1e7):\n",
    "            masked_coord.append({'lat' : CS_L1b_mds['Waveform_1Hz']['Lat'].data[i]*1e-7, \n",
    "                                'lon' : CS_L1b_mds['Waveform_1Hz']['Lon'].data[i]*1e-7,\n",
    "                                'alt' : CS_L1b_mds['Waveform_1Hz']['Alt'].data[i]} )\n",
    "            wf2.append(CS_L1b_mds['Waveform_1Hz']['Waveform'].data[i] * 1e-9 * \n",
    "                    CS_L1b_mds['Waveform_1Hz']['Linear_Wfm_Multiplier'].data[i] * \n",
    "                    2.0**CS_L1b_mds['Waveform_1Hz']['Power2_Wfm_Multiplier'].data[i])\n",
    "\n",
    "\n",
    "    return wf2"
   ]
  },
  {
   "cell_type": "code",
   "execution_count": null,
   "id": "47c58cc9-7330-4254-bcfb-3b318f156976",
   "metadata": {},
   "outputs": [],
   "source": [
    "filename_CB = '/home/jum002/store5/data/AKROSS_data/CRYOSAT/CB22/CS_OFFL_SIR_SIN_1B_20220424T103346_20220424T103735_E001.nc'\n",
    "filename_E22 = '/home/jum002/store5/data/AKROSS_data/CRYOSAT/Eureka22/CS_OFFL_SIR_SIN_1B_20220422T085940_20220422T090109_E001.nc'\n",
    "filename_A = '/home/jum002/store5/data/AKROSS_data/CRYOSAT/Alert/CS_LTA__SIR_SIN_1B_20170412T021004_20170412T021112_D001.nc' \n",
    "filename_E16 = '/home/jum002/store5/data/AKROSS_data/CRYOSAT/Eureka16/CS_LTA__SIR_SIN_1B_20160416T215153_20160416T215555_D001.nc'"
   ]
  },
  {
   "cell_type": "code",
   "execution_count": null,
   "id": "9e3eac22-dc30-43d1-8c30-f7863869e2d0",
   "metadata": {},
   "outputs": [],
   "source": [
    "# From 1Hz waveform info\n",
    "# Mask1992 from AK site, AK1 : 69.08899 -> AK4 : 68.8216\n",
    "CB_low_lat = 68.8\n",
    "CB_high_lat = 69.09\n",
    "\n",
    "E_low_lat = 80.2\n",
    "E_high_lat = 80.6\n",
    "\n",
    "A_low_lat = 83.44\n",
    "A_high_lat = 88\n",
    "\n",
    "\n",
    "CB_wf2 = get_waveform(filename_CB, CB_low_lat, CB_high_lat)\n",
    "E22_wf2 = get_waveform(filename_E22, E_low_lat, E_high_lat)\n",
    "A_wf2 = get_waveform(filename_A, A_low_lat, A_high_lat)\n",
    "E16_wf2 = get_waveform(filename_E16, E_low_lat, E_high_lat)\n"
   ]
  },
  {
   "attachments": {},
   "cell_type": "markdown",
   "id": "c34fdf3e",
   "metadata": {},
   "source": [
    "### Align waveform to nominal gate of simulation"
   ]
  },
  {
   "cell_type": "code",
   "execution_count": null,
   "id": "3800792f",
   "metadata": {},
   "outputs": [],
   "source": [
    "#plt.plot(wf2_mean)\n",
    "#plt.plot(wfE22_mean)\n",
    "for i in E22_wf2:\n",
    "    plt.plot(i)"
   ]
  },
  {
   "attachments": {},
   "cell_type": "markdown",
   "id": "b616aa4c-4dab-4e6a-ab4a-933fabe7c234",
   "metadata": {},
   "source": [
    "### Align waveform with simulation"
   ]
  },
  {
   "cell_type": "code",
   "execution_count": null,
   "id": "0477c22f-9935-4d4d-960e-468d9ec7e598",
   "metadata": {},
   "outputs": [],
   "source": [
    "E22_wf2_align = [AK.align_waveform_with_sim(wave_obs) for wave_obs in E22_wf2]\n",
    "for i in E22_wf2_align[2:]:\n",
    "    plt.plot(i)\n",
    "# Calc mean waveform\n",
    "wf2_mean = np.mean(E22_wf2_align, axis=0)"
   ]
  },
  {
   "cell_type": "code",
   "execution_count": null,
   "id": "5e69b2c6",
   "metadata": {},
   "outputs": [],
   "source": [
    "CB_wf2_align = [AK.align_waveform_with_sim(wave_obs) for wave_obs in CB_wf2]\n",
    "A_wf2_align = [AK.align_waveform_with_sim(wave_obs) for wave_obs in A_wf2]\n",
    "#remove first 2 waveform\n",
    "E16_wf2_align = [AK.align_waveform_with_sim(wave_obs) for wave_obs in E16_wf2][2:]"
   ]
  },
  {
   "cell_type": "code",
   "execution_count": null,
   "id": "52e929c8",
   "metadata": {},
   "outputs": [],
   "source": [
    "# Calc mean waveform\n",
    "E22_wf2_mean = np.mean(E22_wf2_align, axis=0)\n",
    "CB_wf2_mean = np.mean(CB_wf2_align, axis=0)\n",
    "A_wf2_mean = np.mean(A_wf2_align, axis=0)\n",
    "E16_wf2_mean = np.mean(E16_wf2_align, axis=0)"
   ]
  },
  {
   "cell_type": "code",
   "execution_count": null,
   "id": "dc00cbda",
   "metadata": {},
   "outputs": [],
   "source": [
    "E22_dict_obs = {'mean' : E22_wf2_mean, 'waveforms' : E22_wf2_align}\n",
    "CB_dict_obs = {'mean' : CB_wf2_mean, 'waveforms' : CB_wf2_align}\n",
    "A_dict_obs = {'mean' : A_wf2_mean, 'waveforms' : A_wf2_align}\n",
    "E16_dict_obs = {'mean' : E16_wf2_mean, 'waveforms' : E16_wf2_align}"
   ]
  },
  {
   "cell_type": "code",
   "execution_count": null,
   "id": "d8bccef6",
   "metadata": {},
   "outputs": [],
   "source": [
    "with open('smrt_in-out/observed_waveform_E22', 'wb') as pickle_file:\n",
    "    pickle.dump(E22_dict_obs, pickle_file)\n",
    "\n",
    "with open('smrt_in-out/observed_waveform_CB', 'wb') as pickle_file:\n",
    "    pickle.dump(CB_dict_obs, pickle_file)\n",
    "\n",
    "with open('smrt_in-out/observed_waveform_A', 'wb') as pickle_file:\n",
    "    pickle.dump(A_dict_obs, pickle_file)\n",
    "\n",
    "with open('smrt_in-out/observed_waveform_E16', 'wb') as pickle_file:\n",
    "    pickle.dump(E16_dict_obs, pickle_file)"
   ]
  }
 ],
 "metadata": {
  "kernelspec": {
   "display_name": "CMDS310",
   "language": "python",
   "name": "cmds310"
  },
  "language_info": {
   "codemirror_mode": {
    "name": "ipython",
    "version": 3
   },
   "file_extension": ".py",
   "mimetype": "text/x-python",
   "name": "python",
   "nbconvert_exporter": "python",
   "pygments_lexer": "ipython3",
   "version": "3.10.12"
  }
 },
 "nbformat": 4,
 "nbformat_minor": 5
}
