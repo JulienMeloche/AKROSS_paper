{
 "cells": [
  {
   "cell_type": "code",
   "execution_count": null,
   "id": "e69dcfd9",
   "metadata": {},
   "outputs": [],
   "source": [
    "# #For jum002 HPC setup\n",
    "# import sys\n",
    "# import os\n",
    "# sys.path.append(\"/home/jum002/store5/repo/smrt\")\n",
    "# sys.path.append(\"/home/jum002/store5/repo/snowmicropyn\")\n",
    "# os.chdir(\"/home/jum002/code-workshop/AKROSS_paper/Code-paper\")"
   ]
  },
  {
   "cell_type": "code",
   "execution_count": null,
   "id": "7b546062-e596-4c8f-a48d-24518a3c31c0",
   "metadata": {},
   "outputs": [],
   "source": [
    "import pandas as pd\n",
    "import numpy as np\n",
    "import matplotlib.pyplot as plt\n",
    "import pickle\n",
    "\n",
    "#local import\n",
    "import akross_common_functions as AK\n",
    "\n",
    "#SMRT import\n",
    "# Import saline snow permittivity model\n",
    "from smrt.permittivity.saline_snow import saline_snow_permittivity_scharien_with_stogryn95 as ssp\n",
    "from smrt import make_ice_column, make_interface, make_snowpack\n",
    "from smrt.core.globalconstants import PSU\n",
    "from smrt import make_model\n",
    "from smrt.inputs import altimeter_list\n",
    "from smrt.interface.iem_fung92_brogioni10 import IEM_Fung92_Briogoni10\n",
    "\n",
    "pd.set_option('mode.chained_assignment',None)"
   ]
  },
  {
   "cell_type": "markdown",
   "id": "b1c56ce1",
   "metadata": {},
   "source": [
    "This notebook contains the following 2 sections\n",
    "\n",
    "1. Plot volume fraction (density) of all intruments at AK1 \n",
    "2. SMRT simulation of micro-CT, snowpit and smp\n"
   ]
  },
  {
   "attachments": {},
   "cell_type": "markdown",
   "id": "20565ed3-5fb4-46e9-bb9a-e978bd6cc7b6",
   "metadata": {},
   "source": [
    "import all files"
   ]
  },
  {
   "cell_type": "code",
   "execution_count": null,
   "id": "3c8cf2a0-1cc8-47c9-aece-0d75ab2e6de3",
   "metadata": {},
   "outputs": [],
   "source": [
    "#Get FYI \n",
    "#get smp profile for CB at different resolution\n",
    "with open('smrt_in-out/smp_profile_CB_5cm', 'rb') as pickle_file:\n",
    "    smp_5cm = pickle.load(pickle_file)\n",
    "\n",
    "with open('smrt_in-out/smp_profile_CB_1cm', 'rb') as pickle_file:\n",
    "    smp_1cm = pickle.load(pickle_file)\n",
    "\n",
    "#first 31 profile are for AK1\n",
    "list_smp_AK1_5cm = [profile for profile in smp_5cm[:31]]\n",
    "list_smp_AK1_1cm = [profile for profile in smp_1cm[:31]]"
   ]
  },
  {
   "cell_type": "code",
   "execution_count": null,
   "id": "63cfdc04",
   "metadata": {},
   "outputs": [],
   "source": [
    "#get pit\n",
    "with open('smrt_in-out/snowpitCB2022_SMRT_input.txt', 'rb') as pickle_file:\n",
    "    pit = pickle.load(pickle_file)\n",
    "    \n",
    "pit_AK1 = pit['AK1']\n",
    "pit_AK2 = pit['AK2']\n",
    "pit_AK3 = pit['AK3']\n",
    "pit_AK4 = pit['AK4']"
   ]
  },
  {
   "cell_type": "code",
   "execution_count": null,
   "id": "bb083f7f",
   "metadata": {},
   "outputs": [],
   "source": [
    "#need CT data from zenodo DOI: ....\n",
    "#get CT data\n",
    "data_dir = \"/home/jum002/store5/data/AKROSS_data/CB22\"\n",
    "\n",
    "microCT_file = data_dir + \"/micro_CT/AK1_unc.csv\"\n",
    "micro_AK1 = pd.read_csv(microCT_file)\n",
    "microCT_file = data_dir + \"/micro_CT/AK2_unc.csv\"\n",
    "micro_AK2 = pd.read_csv(microCT_file)\n",
    "microCT_file = data_dir + \"/micro_CT/AK3_unc.csv\"\n",
    "micro_AK3 = pd.read_csv(microCT_file)\n",
    "microCT_file = data_dir + \"/micro_CT/AK4_unc.csv\"\n",
    "micro_AK4 = pd.read_csv(microCT_file)"
   ]
  },
  {
   "attachments": {},
   "cell_type": "markdown",
   "id": "0a7cf444-8e2c-495d-80e8-238a03ab0daf",
   "metadata": {},
   "source": [
    "### 1. Plot volume fraction (density) of all intruments at AK1 \n",
    "\n",
    "(smp 1cm, smp 5 cm, CT and tradionnal pit)"
   ]
  },
  {
   "cell_type": "code",
   "execution_count": null,
   "id": "96d1ec2b-d479-4749-afa6-7cad77088c3a",
   "metadata": {},
   "outputs": [],
   "source": [
    "#get info for first smp that correspond to the closest to the pit\n",
    "#smp S40M1503 - 06 are close to pit but smaller thickness\n",
    "#smp #S40M1514 has a similar thickness\n",
    "#smp S40M1503 index 2 is best\n",
    "smp_5cm[2]"
   ]
  },
  {
   "cell_type": "code",
   "execution_count": null,
   "id": "86907f82-42da-4469-a676-ee3bf455b012",
   "metadata": {},
   "outputs": [],
   "source": [
    "smp1 = smp_5cm[2]\n",
    "smp2 = smp_1cm[2]"
   ]
  },
  {
   "cell_type": "code",
   "execution_count": null,
   "id": "9543e234",
   "metadata": {},
   "outputs": [],
   "source": [
    "print(f'mean for pit {np.mean(pit_AK1.density/917)}, mean for ct {np.mean(micro_AK1.volume_fraction[::-1])}')\n",
    "print(f'std for pit {np.std(pit_AK1.density/917)}, std for ct {np.std(micro_AK1.volume_fraction[::-1])}')"
   ]
  },
  {
   "cell_type": "code",
   "execution_count": null,
   "id": "18cd17a4-908a-4c8f-b321-3220ddaa5cdc",
   "metadata": {},
   "outputs": [],
   "source": [
    "plt.rcParams.update({'font.size': 13})\n",
    "plt.figure(figsize = (6,5))\n",
    "plt.plot(pit_AK1.density/917, pit_AK1.htop*100 - 1, 'g^-', label = 'pit', alpha = 0.7)\n",
    "plt.plot(smp1.density/917, smp1.distance[::-1]/10 + 2.5, 'ko-', label = 'smp - 5cm', alpha = 0.7)\n",
    "plt.plot(smp2.density/917, smp2.distance[::-1]/10 + 2.5, 'rs-', label = 'smp - 1cm', alpha = 0.7)\n",
    "plt.plot(micro_AK1.volume_fraction[::-1], micro_AK1.height_in_profile[::-1] /10, 'bv-', label = 'CT', alpha = 0.7)\n",
    "plt.xlabel('$\\phi$')\n",
    "plt.ylabel('Height in profile (cm)')\n",
    "plt.legend()\n",
    "#plt.savefig('C:/Users/melochej/OneDrive - EC-EC/Documents/post-doc/AKROSS/article/fig_output/volume_Fraction.png', dpi=300, format='png', bbox_inches='tight')"
   ]
  },
  {
   "attachments": {},
   "cell_type": "markdown",
   "id": "717697c5-630b-4914-a0f8-80988d0723ff",
   "metadata": {},
   "source": [
    "### 2. SMRT simulation of micro-CT, snowpit and smp"
   ]
  },
  {
   "cell_type": "code",
   "execution_count": null,
   "id": "af1a09ee",
   "metadata": {},
   "outputs": [],
   "source": [
    "#set mean roughness value for snow and ice from AKROSS campaign\n",
    "# value of ice rms from global_norm_factor\n",
    "mean_ice_rms_fyi = 0.002\n",
    "mean_ice_rms_myi = 0.003\n",
    "# value measured\n",
    "mean_ice_lc = 0.15\n",
    "mean_snow_rms = 0.004\n",
    "mean_snow_lc = 0.12\n",
    "\n",
    "#norm factor\n",
    "normf = 1.4e-9\n",
    "\n",
    "altimodel = make_model(\"iba\", \"nadir_lrm_altimetry\", rtsolver_options=dict(theta_inc_sampling=8))\n",
    "cryosat = altimeter_list.cryosat2_sin()"
   ]
  },
  {
   "cell_type": "code",
   "execution_count": null,
   "id": "382e5079-f5ac-477c-be59-d5c1df3c235c",
   "metadata": {},
   "outputs": [],
   "source": [
    "list_smp_AK1_5cm = [profile for profile in smp_5cm[:31]]\n",
    "list_smp_AK1_1cm = [profile for profile in smp_1cm[:31]]\n",
    "\n",
    "AK1_5cm_sp = AK.build_snowpack_pickle(list_smp_AK1_5cm)\n",
    "AK1_1cm_sp = AK.build_snowpack_pickle(list_smp_AK1_1cm)\n",
    "#Create snowpack for SMP measurements\n",
    "  \n",
    "AK.change_roughness(AK1_5cm_sp, mean_ice_rms_fyi, mean_ice_lc, mean_snow_rms, mean_snow_lc)    \n",
    "AK.change_roughness(AK1_1cm_sp, mean_ice_rms_fyi, mean_ice_lc, mean_snow_rms, mean_snow_lc)   "
   ]
  },
  {
   "cell_type": "code",
   "execution_count": null,
   "id": "155fce9a-7460-4189-b6c5-a8f4a4ce2c6f",
   "metadata": {},
   "outputs": [],
   "source": [
    "def build_snowpack_CT(micro_csv, pit_info, ssa_debye = False):\n",
    "    \"\"\"\n",
    "    Build SMRT snowpack for CT, different than for SMP in akros_common_functions\n",
    "    \"\"\"\n",
    "\n",
    "    #thickness micro CT in mm\n",
    "    thick_micro = (micro_csv.height_in_profile.values[5] - micro_csv.height_in_profile.values[4])\n",
    "    #thick array in meters\n",
    "    thick_array = np.ones(len(micro_csv.height_in_profile.values)) * thick_micro /1000\n",
    "    \n",
    "    #get l_exp from mean of all three direction,convert to meter\n",
    "    #fit from autocorrelation\n",
    "    l_c_exp = np.mean([micro_csv['EXP_xi_r_x_size/6'], micro_csv['EXP_xi_r_y_size/6'], micro_csv['EXP_xi_r_z_size/6']], axis =0)/1000\n",
    "    \n",
    "    #get l_c from slope of ACF\n",
    "    if ssa_debye == True:\n",
    "        debye_factor = 0.75\n",
    "        l_c_exp = debye_factor *np.mean([micro_csv['lc_x'], micro_csv['lc_y'], micro_csv['lc_z']], axis =0)/1000\n",
    "    \n",
    "    temperature_micro = np.interp(micro_csv.height_in_profile[::-1]/10, pit_info.htop*100, pit_info.temperature[::-1])\n",
    "    salinity_micro = np.interp(micro_csv.height_in_profile[::-1]/10, pit_info.htop*100, pit_info.salinity[::-1])\n",
    "\n",
    "    df_micro = pd.DataFrame({' htop' : micro_csv.height_in_profile[::-1]/10, 'thick' : thick_array, 'density' : micro_csv.volume_fraction[::-1] *917,\n",
    "                             'temperature' : temperature_micro, 'salinity' : salinity_micro, 'l_exp' : l_c_exp[::-1]})\n",
    "    \n",
    "    #Create snowpack for microCT\n",
    "    sea_ice_density = 910\n",
    "    ice = make_ice_column(ice_type='firstyear',\n",
    "            thickness=[2], temperature=260, \n",
    "            microstructure_model='independent_sphere',\n",
    "            radius=1e-3,\n",
    "            brine_inclusion_shape='spheres',\n",
    "            density=sea_ice_density,\n",
    "            salinity= 5*PSU,\n",
    "            add_water_substrate=True)\n",
    "\n",
    "    snowpack_micro = make_snowpack(df_micro.thick, microstructure_model='exponential',\n",
    "                    ice_permittivity_model=ssp, density=df_micro.density , \n",
    "                    corr_length=df_micro.l_exp, temperature = df_micro.temperature,\n",
    "                    salinity=df_micro.salinity *PSU) + ice\n",
    "    #ice\n",
    "    snowpack_micro.interfaces[-1] = make_interface(IEM_Fung92_Briogoni10, roughness_rms = mean_ice_rms_fyi, corr_length = mean_ice_lc)\n",
    "    #surface\n",
    "    snowpack_micro.interfaces[0] = make_interface(IEM_Fung92_Briogoni10, roughness_rms = mean_snow_rms, corr_length = mean_snow_lc)\n",
    "    \n",
    "    return snowpack_micro\n",
    "\n",
    "#Create snowpack for snowpit\n",
    "def build_snowpack_pit(pit_site):\n",
    "    \"\"\"\n",
    "    Build SMRT snowpack for pit, different than for SMP in akros_common_functions\n",
    "    \"\"\"\n",
    "    # Convert to exp. corr length\n",
    "    debye = 0.75\n",
    "    lex_array = debye * 4 * (1 - pit_site.density / 917) / (pit_site.ssa * 917)\n",
    "\n",
    "    #Create snowpack for microCT\n",
    "    sea_ice_density = 910\n",
    "    ice = make_ice_column(ice_type='firstyear',\n",
    "            thickness=[2], temperature=260, \n",
    "            microstructure_model='independent_sphere',\n",
    "            radius=1e-3,\n",
    "            brine_inclusion_shape='spheres',\n",
    "            density=sea_ice_density,\n",
    "            salinity=5*PSU,\n",
    "            add_water_substrate=True)\n",
    "\n",
    "    snowpack_pit = make_snowpack(pit_site.thick, microstructure_model='exponential',\n",
    "                    ice_permittivity_model=ssp, density=pit_site.density , \n",
    "                    corr_length=lex_array, temperature = 260,\n",
    "                    salinity=pit_site.salinity *PSU) + ice\n",
    "    #ice\n",
    "    snowpack_pit.interfaces[-1] = make_interface(IEM_Fung92_Briogoni10, roughness_rms = mean_ice_rms_fyi, corr_length = mean_ice_lc)\n",
    "    #surface\n",
    "    snowpack_pit.interfaces[0] = make_interface(IEM_Fung92_Briogoni10, roughness_rms = mean_snow_rms, corr_length = mean_snow_lc)\n",
    "    \n",
    "    return snowpack_pit"
   ]
  },
  {
   "cell_type": "code",
   "execution_count": null,
   "id": "ad2f463e",
   "metadata": {},
   "outputs": [],
   "source": [
    "#build snowpack for CT\n",
    "snowpack_CT_AK1 = build_snowpack_CT(micro_AK1, pit_AK1)\n",
    "snowpack_CT_AK2 = build_snowpack_CT(micro_AK2, pit_AK2)\n",
    "snowpack_CT_AK3 = build_snowpack_CT(micro_AK3, pit_AK3)\n",
    "snowpack_CT_AK4 = build_snowpack_CT(micro_AK4, pit_AK4)\n",
    "\n",
    "#build snowpack from pit\n",
    "snowpack_pit_AK1 = build_snowpack_pit(pit_AK1)\n",
    "snowpack_pit_AK2 = build_snowpack_pit(pit_AK2)\n",
    "snowpack_pit_AK3 = build_snowpack_pit(pit_AK3)\n",
    "snowpack_pit_AK4 = build_snowpack_pit(pit_AK4)\n"
   ]
  },
  {
   "cell_type": "code",
   "execution_count": null,
   "id": "29c81dc6-0bec-45b7-93a6-2360598eeb8c",
   "metadata": {},
   "outputs": [],
   "source": [
    "#run simulation\n",
    "\n",
    "#smp\n",
    "res_smp_5cm = np.mean(altimodel.run(cryosat, AK1_5cm_sp).sigma(), axis = 0)\n",
    "res_smp_1cm = np.mean(altimodel.run(cryosat, AK1_1cm_sp).sigma(), axis = 0)\n",
    "\n",
    "#CT\n",
    "res_CT_AK1 = altimodel.run(cryosat, snowpack_CT_AK1).sigma()\n",
    "res_CT_AK2 = altimodel.run(cryosat, snowpack_CT_AK2).sigma()\n",
    "res_CT_AK3 = altimodel.run(cryosat, snowpack_CT_AK3).sigma()\n",
    "res_CT_AK4 = altimodel.run(cryosat, snowpack_CT_AK4).sigma()\n",
    "\n",
    "#pit\n",
    "res_pit_AK1 = altimodel.run(cryosat, snowpack_pit_AK1).sigma()\n",
    "res_pit_AK2 = altimodel.run(cryosat, snowpack_pit_AK2).sigma()\n",
    "res_pit_AK3 = altimodel.run(cryosat, snowpack_pit_AK3).sigma()\n",
    "res_pit_AK4 = altimodel.run(cryosat, snowpack_pit_AK4).sigma()"
   ]
  },
  {
   "cell_type": "code",
   "execution_count": null,
   "id": "fe30ecc8-5dca-476f-8283-f924f4ba4b6d",
   "metadata": {},
   "outputs": [],
   "source": [
    "plt.rcParams.update({'font.size': 13})\n",
    "fig, (ax1, ax2) =plt.subplots(nrows=1, ncols=2, figsize = (11,5), sharex = True)\n",
    "\n",
    "ax1.plot(res_smp_5cm/normf/1e-14, 'k:', label = 'AK1 - SMP 5 cm')\n",
    "ax1.plot(res_pit_AK1/normf/1e-14, 'r:', label = 'AK1 - pit 5 cm')\n",
    "ax1.plot(res_smp_1cm/normf/1e-14, 'k-', label = 'AK1 - SMP 1 cm')\n",
    "ax1.plot(res_CT_AK1/normf/1e-14, 'r-', label = 'AK1 - CT 1cm')\n",
    "ax1.legend()\n",
    "ax1.grid()\n",
    "\n",
    "\n",
    "ax2.plot(res_CT_AK1/normf/1e-14, 'r-', label = 'AK1 - CT')\n",
    "ax2.plot(res_pit_AK1/normf/1e-14,'r:', label = 'AK1 - pit')\n",
    "ax2.plot(res_CT_AK2/normf/1e-14, 'b-', label = 'AK2 - CT')\n",
    "ax2.plot(res_pit_AK2/normf/1e-14,'b:', label = 'AK2 - pit')\n",
    "ax2.plot(res_CT_AK3/normf/1e-14, 'g-', label = 'AK3 - CT')\n",
    "ax2.plot(res_pit_AK3/normf/1e-14,'g:', label = 'AK3 - pit')\n",
    "ax2.plot(res_CT_AK4/normf/1e-14, 'k-', label = 'AK4 - CT')\n",
    "ax2.plot(res_pit_AK4/normf/1e-14,'k:', label = 'AK4 - pit')\n",
    "\n",
    "ax2.legend()\n",
    "plt.xlim(130,300)\n",
    "ax1.set_title('a)')\n",
    "ax2.set_title('b)')\n",
    "ax1.set_xlabel('Bins')\n",
    "ax2.set_xlabel('Bins')\n",
    "ax1.set_ylabel('Power normalized')\n",
    "ax2.grid()\n",
    "\n",
    "#plt.savefig('C://Users/julie/OneDrive - USherbrooke/post-doc/AKROSS/article/fig_output/simu_CT_subfig.png', dpi=300, format='png', bbox_inches='tight')"
   ]
  }
 ],
 "metadata": {
  "kernelspec": {
   "display_name": "CMDS310",
   "language": "python",
   "name": "cmds310"
  },
  "language_info": {
   "codemirror_mode": {
    "name": "ipython",
    "version": 3
   },
   "file_extension": ".py",
   "mimetype": "text/x-python",
   "name": "python",
   "nbconvert_exporter": "python",
   "pygments_lexer": "ipython3",
   "version": "3.10.12"
  }
 },
 "nbformat": 4,
 "nbformat_minor": 5
}
