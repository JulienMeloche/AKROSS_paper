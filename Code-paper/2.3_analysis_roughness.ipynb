{
 "cells": [
  {
   "cell_type": "code",
   "execution_count": null,
   "id": "68583e50",
   "metadata": {},
   "outputs": [],
   "source": [
    "# #For jum002 HPC setup\n",
    "# import os\n",
    "# os.chdir(\"/home/jum002/code-workshop/AKROSS_paper/Code-paper\")"
   ]
  },
  {
   "cell_type": "code",
   "execution_count": null,
   "id": "d241c907-8533-4448-be76-8203423f34a4",
   "metadata": {},
   "outputs": [],
   "source": [
    "import pandas as pd\n",
    "import matplotlib.pyplot as plt\n",
    "import numpy as np\n",
    "import seaborn as sns"
   ]
  },
  {
   "cell_type": "markdown",
   "id": "e59c3dea",
   "metadata": {},
   "source": [
    "### This notebook contains only the analysis of measured roughness at CB and Eureka 22"
   ]
  },
  {
   "cell_type": "markdown",
   "id": "483195d6",
   "metadata": {},
   "source": [
    "import processed roughness parameter from mulitple site. The 3d point cloud are used to calculate roughness parameters."
   ]
  },
  {
   "cell_type": "code",
   "execution_count": null,
   "id": "c20b9e79-8061-4a92-a9cf-4def77a35ee8",
   "metadata": {},
   "outputs": [],
   "source": [
    "#add your data AKROSS path\n",
    "\n",
    "df_CB = pd.read_csv('smrt_in-out/AK_rough_param_detrend.csv')\n",
    "index_snow = df_CB[['snow' in file for file in df_CB.file]].index\n",
    "index_rough = df_CB[df_CB.rms >= 0.01].index\n",
    "df_CB['type'] = 'ice (flat)'\n",
    "df_CB.loc[index_rough,'type'] = 'ice (rough)'\n",
    "df_CB.loc[index_snow,'type'] = 'snow'\n",
    "\n",
    "\n",
    "\n",
    "df_E22 = pd.read_csv('smrt_in-out/E22_rough_param_detrend.csv')\n",
    "index_snow = df_E22[['snow' in file for file in df_E22.file]].index\n",
    "df_E22['type'] = 'ice (flat)'\n",
    "df_E22.loc[index_snow,'type'] = 'snow'\n",
    "\n",
    "#remove pressure ridge from CB\n",
    "df_all = pd.concat([df_CB[2:],df_E22], ignore_index=True)"
   ]
  },
  {
   "cell_type": "markdown",
   "id": "e97e6774",
   "metadata": {},
   "source": [
    "Classify into snow, flat and rough ice"
   ]
  },
  {
   "cell_type": "code",
   "execution_count": null,
   "id": "12d0cf7d-2310-464f-a909-9e329c2c24f6",
   "metadata": {},
   "outputs": [],
   "source": [
    "#rough ice\n",
    "mean_ice_rough_rms = df_all[df_all.type == 'ice (rough)'].rms.mean()\n",
    "std_ice_rough_rms = df_all[df_all.type == 'ice (rough)'].rms.std()\n",
    "mean_ice_rough_lc = df_all[df_all.type == 'ice (rough)'].lcorr.mean()\n",
    "std_ice_rough_lc = df_all[df_all.type == 'ice (rough)'].lcorr.std()\n",
    "\n",
    "#flat ice\n",
    "mean_ice_flat_rms = df_all[df_all.type == 'ice (flat)'].rms.mean()\n",
    "std_ice_flat_rms = df_all[df_all.type == 'ice (flat)'].rms.std()\n",
    "mean_ice_flat_lc = df_all[df_all.type == 'ice (flat)'].lcorr.mean()\n",
    "std_ice_flat_lc = df_all[df_all.type == 'ice (flat)'].lcorr.std()\n",
    "\n",
    "#snow\n",
    "mean_snow_rms = df_all[df_all.type == 'snow'].rms.mean()\n",
    "std_snow_rms = df_all[df_all.type == 'snow'].rms.std()\n",
    "mean_snow_lc = df_all[df_all.type == 'snow'].lcorr.mean()\n",
    "std_snow_lc = df_all[df_all.type == 'snow'].lcorr.std()\n",
    "\n",
    "print(f'mean ice rms {mean_ice_rough_rms} ± {std_ice_rough_rms/2}, mean lc : {mean_ice_rough_lc} ± {std_ice_rough_lc/2}')\n",
    "print(f'mean flat ice rms {mean_ice_flat_rms} ± {std_ice_flat_rms/2}, mean flat ice lc : {mean_ice_flat_lc} ± {std_ice_flat_lc/2}')\n",
    "print(f'mean snow rms {mean_snow_rms} ± {std_snow_rms/2}, mean snow lc : {mean_snow_lc} ± {std_snow_lc/2}')\n"
   ]
  },
  {
   "cell_type": "code",
   "execution_count": null,
   "metadata": {},
   "outputs": [],
   "source": [
    "df_all"
   ]
  },
  {
   "cell_type": "markdown",
   "id": "2d726d85",
   "metadata": {},
   "source": [
    "Plot data using seaborn"
   ]
  },
  {
   "cell_type": "code",
   "execution_count": null,
   "id": "d1c8f5ef-8019-424e-9be3-bd6fe6ea286a",
   "metadata": {},
   "outputs": [],
   "source": [
    "\n",
    "plt.rcParams.update({'font.size': 14})\n",
    "\n",
    "sns.kdeplot(x = df_all.rms *100, y = df_all.lcorr*100, hue = df_all.type, alpha = 0.7, fill = True, hue_order = ['snow', 'ice (flat)', 'ice (rough)'])\n",
    "sns.scatterplot(x = df_all.rms *100, y = df_all.lcorr*100, hue = df_all.type, hue_order = ['snow', 'ice (flat)', 'ice (rough)'])\n",
    "\n",
    "sns.scatterplot(x = df_E22.rms *100, y = df_E22.lcorr*100, hue = df_E22.type, hue_order = ['snow', 'ice (flat)', 'ice (rough)'], legend = False, linewidth=1.2)\n",
    "sns.scatterplot(x = df_CB[2:].rms *100, y = df_CB[2:].lcorr*100, hue = df_CB.type, hue_order = ['snow', 'ice (flat)', 'ice (rough)'], legend = False, edgecolor = 'k', linewidth=1.2)\n",
    "#plt.scatter(df_CB.rms*100, df_CB.lcorr*100, color = 'k')\n",
    "plt.xlabel('$s$ (cm)')\n",
    "plt.ylabel('$l$ (cm)')\n",
    "plt.grid()\n",
    "#plt.savefig('C://Users/melochej/OneDrive - EC-EC/Documents/post-doc/AKROSS/article/fig_output/kdeplot_roughness.png', dpi=300, format='png', bbox_inches='tight')"
   ]
  }
 ],
 "metadata": {
  "kernelspec": {
   "display_name": "CMDS310",
   "language": "python",
   "name": "cmds310"
  },
  "language_info": {
   "codemirror_mode": {
    "name": "ipython",
    "version": 3
   },
   "file_extension": ".py",
   "mimetype": "text/x-python",
   "name": "python",
   "nbconvert_exporter": "python",
   "pygments_lexer": "ipython3",
   "version": "3.10.12"
  }
 },
 "nbformat": 4,
 "nbformat_minor": 5
}
